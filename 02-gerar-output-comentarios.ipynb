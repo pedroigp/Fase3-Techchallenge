{
 "cells": [
  {
   "cell_type": "markdown",
   "metadata": {},
   "source": [
    "# Passos:\n",
    "2.2 Preparar os dados para o fine-tunning"
   ]
  },
  {
   "cell_type": "code",
   "execution_count": 18,
   "metadata": {},
   "outputs": [],
   "source": [
    "from openai import OpenAI\n",
    "import os\n",
    "from dotenv import load_dotenv\n",
    "\n",
    "load_dotenv(override=True)\n",
    "\n",
    "client = OpenAI(api_key=os.environ.get(\"OPENAI_API_KEY\"))\n",
    "dataset = \"C:\\\\Projetos Python\\\\Fiap\\\\F3-tech-challenge\\\\LF-Amazon-1.3M\\\\trn_tratado_limitado.jsonl\"\n",
    "dataset_para_finetunning = \"C:\\\\Projetos Python\\\\Fiap\\\\F3-tech-challenge\\\\LF-Amazon-1.3M\\\\trn_tratado_limitado_preparado.jsonl\""
   ]
  },
  {
   "cell_type": "code",
   "execution_count": 9,
   "metadata": {},
   "outputs": [
    {
     "name": "stdout",
     "output_type": "stream",
     "text": [
      ""
     ]
    }
   ],
   "source": [
    "print(os.environ.get(\"OPENAI_API_KEY\"))"
   ]
  },
  {
   "cell_type": "code",
   "execution_count": null,
   "metadata": {},
   "outputs": [],
   "source": [
    "import json\n",
    "\n",
    "# Carregar o dataset\n",
    "with open(dataset, 'r', encoding='utf-8') as f:\n",
    "    data = [json.loads(line) for line in f]\n",
    "    #data = data[:4]  # Limitar a quantidade de comentários para 10\n",
    "\n",
    "# Função para classificar sentimentos\n",
    "def classify_sentiment(client, text):\n",
    "    response = client.chat.completions.create(        \n",
    "        model=\"gpt-3.5-turbo\",\n",
    "        messages=[\n",
    "        {\n",
    "            \"role\": \"system\",\n",
    "            \"content\": \"Classify the sentiment of the following comment as positive, negative, or neutral. No need to explain.\"\n",
    "        },\n",
    "        {\n",
    "            \"role\": \"user\",\n",
    "            \"content\": f\"{text}\"\n",
    "        }\n",
    "        ],        \n",
    "    )\n",
    "    sentiment = response.choices[0].message.content.strip()\n",
    "    return sentiment\n",
    "\n",
    "# Classificar sentimentos dos comentários no dataset\n",
    "for item in data:\n",
    "    item['sentiment'] = str.capitalize(classify_sentiment(client, item['content']))\n",
    "\n",
    "# Salvar os resultados em um arquivo .json\n",
    "output_file = 'classified_sentiments.json'\n",
    "with open(output_file, 'w', encoding='utf-8') as f: \n",
    "    json.dump(data, f, ensure_ascii=False, indent=4)\n",
    "\n",
    "# Exibir os resultados\n",
    "for item in data:\n",
    "    print(f\"Produto: {item['title']}, Comentário: {item['content']}, Sentimento: {item['sentiment']}\")"
   ]
  }
 ],
 "metadata": {
  "kernelspec": {
   "display_name": "Python 3",
   "language": "python",
   "name": "python3"
  },
  "language_info": {
   "codemirror_mode": {
    "name": "ipython",
    "version": 3
   },
   "file_extension": ".py",
   "mimetype": "text/x-python",
   "name": "python",
   "nbconvert_exporter": "python",
   "pygments_lexer": "ipython3",
   "version": "3.13.2"
  }
 },
 "nbformat": 4,
 "nbformat_minor": 2
}
